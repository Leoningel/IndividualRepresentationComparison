{
 "cells": [
  {
   "cell_type": "code",
   "execution_count": null,
   "metadata": {},
   "outputs": [],
   "source": [
    "import pandas as pd\n",
    "import seaborn as sns\n",
    "import matplotlib.pyplot as plt  # type:ignore\n",
    "folder = \"genetic_engine_v0.7_41d9335284a2cca22b872397bd109a196ebf4496\""
   ]
  },
  {
   "cell_type": "code",
   "execution_count": null,
   "metadata": {},
   "outputs": [],
   "source": [
    "# 30 minutes\n",
    "data = pd.read_parquet(f\"data/{folder}/synthetic_summary.parquet\")\n",
    "# print(data.columns)\n",
    "print(\"Size data:\", len(data))\n",
    "print(\"Average number of generations:\", (len(data)/ 45000))\n",
    "\n",
    "unique_benchmarks = len(data[\"Benchmark Name\"].unique())\n",
    "print(\"Unique benchmarks:\", unique_benchmarks)\n",
    "final_data = list()\n",
    "not_found = list()\n",
    "for idx, name in enumerate(data[\"Benchmark Name\"].unique()):\n",
    "    print(f\"{round((idx/unique_benchmarks) * 100,3)} %\", end=\"\\r\")\n",
    "    for representation in [\"GrammaticalEvolutionRepresentation\", \"DynamicStructuredGrammaticalEvolutionRepresentation\", \"TreeBasedRepresentation\"]:\n",
    "        temp_data = data[(data[\"Benchmark Name\"] == name) & (data[\"Representation\"] == representation)]\n",
    "        # temp_data = data.query(f\"'Benchmark Name' == @name & Representation == @representation\")\n",
    "        try:\n",
    "            # print(temp_data)\n",
    "            max_id = temp_data[\"Generations\"].idxmax()\n",
    "            final_data.append(temp_data.loc[max_id])\n",
    "        except:\n",
    "            not_found.append((name, representation))\n",
    "print(f\"Number not found: \\n {len(not_found)} (/{3 * unique_benchmarks})\")\n",
    "print(\"Not found: \\n \", not_found)\n",
    "final_data = pd.DataFrame(final_data, columns=data.columns)\n",
    "\n",
    "final_data.to_csv(f\"data/{folder}/final_evolution.csv\")\n",
    "print(\"Size final data:\", len(final_data))\n",
    "bla = final_data.head(20)\n",
    "bla\n"
   ]
  },
  {
   "cell_type": "code",
   "execution_count": null,
   "metadata": {},
   "outputs": [],
   "source": [
    "# When a run reaches a fitness of 0, the GP programme stops. Therefore the last value in the process is the value for that number of the generation. It stops to show in the plots, which is problematic.\n",
    "# 4 minutes.\n",
    "data = pd.read_parquet(f\"data/{folder}/synthetic_summary.parquet\")\n",
    "print(data.columns)\n",
    "fitness_difficulties = [\"easy\", \"medium\", \"hard\"]\n",
    "zeros = data[data[\"Fitness component 0\"] == 0]\n",
    "print(len(zeros))\n",
    "\n",
    "lost_values = list()\n",
    "for idx, zero in zeros.iterrows():\n",
    "    generation = zero['Generations']\n",
    "    for i in range(100-generation):\n",
    "        zero.loc['Generations'] = i + generation + 1\n",
    "        lost_values.append(zero.copy())\n",
    "\n",
    "lost_values = pd.DataFrame(lost_values, columns=data.columns)\n",
    "data = pd.concat([data, lost_values])\n",
    "data.to_parquet(f\"data/{folder}/full_generations.parquet\")\n"
   ]
  },
  {
   "cell_type": "code",
   "execution_count": null,
   "metadata": {},
   "outputs": [],
   "source": [
    "# Meta data is not complete\n",
    "metadata = pd.read_csv(f\"data/{folder}/synthetic_metadata.csv\")\n",
    "# print(metadata.columns)\n",
    "unique_seeds = metadata.seed.unique()\n",
    "print(len(unique_seeds))\n",
    "print(len(metadata)/len(unique_seeds))\n",
    "print(len(metadata[\"maximum depth\"].unique()))\n",
    "print(len(metadata[\"fitness difficulty\"].unique()))"
   ]
  }
 ],
 "metadata": {
  "kernelspec": {
   "display_name": "thesis",
   "language": "python",
   "name": "python3"
  },
  "language_info": {
   "codemirror_mode": {
    "name": "ipython",
    "version": 3
   },
   "file_extension": ".py",
   "mimetype": "text/x-python",
   "name": "python",
   "nbconvert_exporter": "python",
   "pygments_lexer": "ipython3",
   "version": "3.10.4"
  },
  "orig_nbformat": 4
 },
 "nbformat": 4,
 "nbformat_minor": 2
}
