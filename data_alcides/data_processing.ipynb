{
 "cells": [
  {
   "cell_type": "code",
   "execution_count": null,
   "metadata": {},
   "outputs": [],
   "source": [
    "import pandas as pd\n",
    "import seaborn as sns\n",
    "import matplotlib.pyplot as plt  # type:ignore"
   ]
  },
  {
   "cell_type": "code",
   "execution_count": null,
   "metadata": {},
   "outputs": [],
   "source": [
    "# 20 seconds\n",
    "data = pd.read_parquet(\"synthetic_evolution.parquet\")\n",
    "print(len(data))\n",
    "data.head(200)\n",
    "final_data = data[data[\"Fitness component 0\"] == 0]\n",
    "final_data.to_parquet(\"final_evolution.parquet\")\n",
    "print(len(final_data))\n",
    "bla = final_data.head(20)\n",
    "bla\n"
   ]
  },
  {
   "cell_type": "code",
   "execution_count": null,
   "metadata": {},
   "outputs": [],
   "source": [
    "# When a run reaches a fitness of 0, the GP programme stops. Therefore the last value in the process is the value for that number of the generation. It stops to show in the plots, which is problematic.\n",
    "# 4 minutes.\n",
    "data = pd.read_parquet(\"synthetic_summary.parquet\")\n",
    "print(data.columns)\n",
    "fitness_difficulties = [\"easy\", \"medium\", \"hard\"]\n",
    "zeros = data[data[\"Fitness component 0\"] == 0]\n",
    "print(len(zeros))\n",
    "\n",
    "lost_values = list()\n",
    "for idx, zero in zeros.iterrows():\n",
    "    generation = zero['Generations']\n",
    "    for i in range(100-generation):\n",
    "        zero.loc['Generations'] = i + generation + 1\n",
    "        lost_values.append(zero.copy())\n",
    "\n",
    "lost_values = pd.DataFrame(lost_values, columns=data.columns)\n",
    "data = pd.concat([data, lost_values])\n",
    "data.to_parquet(\"full_generations.parquet\")\n"
   ]
  },
  {
   "cell_type": "code",
   "execution_count": null,
   "metadata": {},
   "outputs": [],
   "source": [
    "# Meta data is not complete\n",
    "metadata = pd.read_csv(\"synthetic_metadata.csv\")\n",
    "# print(metadata.columns)\n",
    "unique_seeds = metadata.seed.unique()\n",
    "print(len(unique_seeds))\n",
    "print(len(metadata)/len(unique_seeds))\n",
    "print(len(metadata[\"maximum depth\"].unique()))\n",
    "print(len(metadata[\"fitness difficulty\"].unique()))"
   ]
  }
 ],
 "metadata": {
  "kernelspec": {
   "display_name": "thesis",
   "language": "python",
   "name": "python3"
  },
  "language_info": {
   "codemirror_mode": {
    "name": "ipython",
    "version": 3
   },
   "file_extension": ".py",
   "mimetype": "text/x-python",
   "name": "python",
   "nbconvert_exporter": "python",
   "pygments_lexer": "ipython3",
   "version": "3.10.4"
  },
  "orig_nbformat": 4
 },
 "nbformat": 4,
 "nbformat_minor": 2
}
