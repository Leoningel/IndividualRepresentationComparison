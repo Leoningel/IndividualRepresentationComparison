{
 "cells": [
  {
   "cell_type": "code",
   "execution_count": null,
   "metadata": {},
   "outputs": [],
   "source": [
    "import pandas as pd\n",
    "import seaborn as sns\n",
    "import matplotlib.pyplot as plt  # type:ignore"
   ]
  },
  {
   "cell_type": "code",
   "execution_count": null,
   "metadata": {},
   "outputs": [],
   "source": [
    "# 20 seconds\n",
    "data = pd.read_parquet(\"synthetic_summary.parquet\")\n",
    "print(len(data))\n",
    "final_data = data[data[\"Fitness\"] == 0]\n",
    "final_data.to_parquet(\"final_generations.parquet\")\n",
    "print(len(final_data))\n"
   ]
  },
  {
   "cell_type": "code",
   "execution_count": null,
   "metadata": {},
   "outputs": [],
   "source": [
    "# When a run reaches a fitness of 0, the GP programme stops. Therefore the last value in the process is the value for that number of the generation. It stops to show in the plots, which is problematic.\n",
    "# 4 minutes.\n",
    "print(data.columns)\n",
    "fitness_difficulties = [\"easy\", \"medium\", \"hard\"]\n",
    "zeros = data[data[\"Fitness\"] == 0]\n",
    "print(len(zeros))\n",
    "\n",
    "lost_values = list()\n",
    "for idx, zero in zeros.iterrows():\n",
    "    generation = zero['Generations']\n",
    "    for i in range(100-generation):\n",
    "        zero.loc['Generations'] = i + generation + 1\n",
    "        lost_values.append(zero.copy())\n",
    "\n",
    "lost_values = pd.DataFrame(lost_values, columns=data.columns)\n",
    "data = pd.concat([data, lost_values])\n"
   ]
  },
  {
   "cell_type": "code",
   "execution_count": null,
   "metadata": {},
   "outputs": [],
   "source": [
    "# 2 minutes\n",
    "for y in [\"Fitness\", \"Depth\"]:\n",
    "    print(y)\n",
    "    for i in range(3):\n",
    "        fitness_difficulty = fitness_difficulties[i]\n",
    "        a = sns.lineplot(\n",
    "            data=data[data['Fitness Difficulty'] == fitness_difficulty],\n",
    "            x = \"Generations\",\n",
    "            y = y,\n",
    "            hue = \"Method\",\n",
    "            )\n",
    "        plt.savefig(f\"{y}_{fitness_difficulty}.pdf\")\n",
    "        plt.close()\n"
   ]
  },
  {
   "cell_type": "code",
   "execution_count": null,
   "metadata": {},
   "outputs": [],
   "source": []
  },
  {
   "cell_type": "code",
   "execution_count": null,
   "metadata": {},
   "outputs": [],
   "source": []
  },
  {
   "cell_type": "code",
   "execution_count": null,
   "metadata": {},
   "outputs": [],
   "source": []
  },
  {
   "cell_type": "code",
   "execution_count": null,
   "metadata": {},
   "outputs": [],
   "source": []
  }
 ],
 "metadata": {
  "kernelspec": {
   "display_name": "thesis",
   "language": "python",
   "name": "python3"
  },
  "language_info": {
   "codemirror_mode": {
    "name": "ipython",
    "version": 3
   },
   "file_extension": ".py",
   "mimetype": "text/x-python",
   "name": "python",
   "nbconvert_exporter": "python",
   "pygments_lexer": "ipython3",
   "version": "3.10.4"
  },
  "orig_nbformat": 4
 },
 "nbformat": 4,
 "nbformat_minor": 2
}
