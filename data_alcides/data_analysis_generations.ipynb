{
 "cells": [
  {
   "cell_type": "code",
   "execution_count": null,
   "metadata": {},
   "outputs": [],
   "source": [
    "import pandas as pd\n",
    "import seaborn as sns\n",
    "import matplotlib.pyplot as plt  # type:ignore\n",
    "folder = \"genetic_engine_v0.7_41d9335284a2cca22b872397bd109a196ebf4496\""
   ]
  },
  {
   "cell_type": "code",
   "execution_count": null,
   "metadata": {},
   "outputs": [],
   "source": [
    "# 20 seconds\n",
    "data = pd.read_parquet(f\"data/{folder}/full_generations.parquet\")\n"
   ]
  },
  {
   "cell_type": "code",
   "execution_count": null,
   "metadata": {},
   "outputs": [],
   "source": [
    "# 2 minutes\n",
    "fitness_difficulties = [\"easy\", \"medium\", \"hard\"]\n",
    "\n",
    "for y in [\"Fitness component 0\", \"Depth\"]:\n",
    "    print(y)\n",
    "    for i in range(3):\n",
    "        fitness_difficulty = fitness_difficulties[i]\n",
    "        a = sns.lineplot(\n",
    "            data=data[data['Fitness Difficulty'] == fitness_difficulty],\n",
    "            x = \"Generations\",\n",
    "            y = y,\n",
    "            hue = \"Representation\",\n",
    "            )\n",
    "        plt.savefig(f\"figure/generations/{y}_{fitness_difficulty}.pdf\")\n",
    "        plt.close()\n"
   ]
  },
  {
   "cell_type": "code",
   "execution_count": null,
   "metadata": {},
   "outputs": [],
   "source": []
  }
 ],
 "metadata": {
  "kernelspec": {
   "display_name": "thesis",
   "language": "python",
   "name": "python3"
  },
  "language_info": {
   "codemirror_mode": {
    "name": "ipython",
    "version": 3
   },
   "file_extension": ".py",
   "mimetype": "text/x-python",
   "name": "python",
   "nbconvert_exporter": "python",
   "pygments_lexer": "ipython3",
   "version": "3.10.4"
  },
  "orig_nbformat": 4
 },
 "nbformat": 4,
 "nbformat_minor": 2
}
