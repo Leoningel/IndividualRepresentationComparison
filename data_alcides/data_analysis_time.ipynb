{
 "cells": [
  {
   "cell_type": "code",
   "execution_count": null,
   "metadata": {},
   "outputs": [],
   "source": [
    "import pandas as pd\n",
    "import seaborn as sns\n",
    "import matplotlib.pyplot as plt  # type:ignore\n",
    "folder = \"genetic_engine_v0.7_41d9335284a2cca22b872397bd109a196ebf4496\""
   ]
  },
  {
   "cell_type": "code",
   "execution_count": null,
   "metadata": {},
   "outputs": [],
   "source": [
    "# 20 seconds\n",
    "data = pd.read_parquet(f\"data/{folder}/final_evolution.parquet\")\n",
    "print(data.columns)\n",
    "print(data[\"Fitness Aggregated\"].values)\n",
    "print(data[\"Fitness component 0\"].values)\n",
    "data[[\"Fitness Aggregated\", \"Depth\", \"Fitness component 0\"]]"
   ]
  },
  {
   "cell_type": "code",
   "execution_count": null,
   "metadata": {},
   "outputs": [],
   "source": [
    "fitness_difficulties = [\"easy\", \"medium\", \"hard\"]\n",
    "representations = [\"GrammaticalEvolutionRepresentation\", \"DynamicStructuredGrammaticalEvolutionRepresentation\", \"TreeBasedRepresentation\"]"
   ]
  },
  {
   "cell_type": "code",
   "execution_count": null,
   "metadata": {},
   "outputs": [],
   "source": [
    "for repr in representations:\n",
    "    for f_diff in fitness_difficulties:\n",
    "        sns.scatterplot(\n",
    "            data=data[(data[\"Representation\"] == repr) & (data[\"Fitness Difficulty\"] == f_diff)],\n",
    "            x = \"Fitness Aggregated\",\n",
    "            y = \"Fitness component 0\"\n",
    "        )\n",
    "    \n",
    "        plt.savefig(f\"figures/time/{repr}_{f_diff}.pdf\")\n",
    "        plt.close()"
   ]
  },
  {
   "cell_type": "code",
   "execution_count": null,
   "metadata": {},
   "outputs": [],
   "source": [
    "for f_diff in fitness_difficulties:\n",
    "    sns.scatterplot(\n",
    "        data=data[(data[\"Fitness Difficulty\"] == f_diff)],\n",
    "        x = \"Fitness Aggregated\",\n",
    "        y = \"Fitness component 0\",\n",
    "        hue = \"Representation\"\n",
    "    )\n",
    "\n",
    "    plt.savefig(f\"figures/time/{f_diff}.pdf\")\n",
    "    plt.close()"
   ]
  }
 ],
 "metadata": {
  "kernelspec": {
   "display_name": "thesis",
   "language": "python",
   "name": "python3"
  },
  "language_info": {
   "codemirror_mode": {
    "name": "ipython",
    "version": 3
   },
   "file_extension": ".py",
   "mimetype": "text/x-python",
   "name": "python",
   "nbconvert_exporter": "python",
   "pygments_lexer": "ipython3",
   "version": "3.10.4"
  },
  "orig_nbformat": 4
 },
 "nbformat": 4,
 "nbformat_minor": 2
}
